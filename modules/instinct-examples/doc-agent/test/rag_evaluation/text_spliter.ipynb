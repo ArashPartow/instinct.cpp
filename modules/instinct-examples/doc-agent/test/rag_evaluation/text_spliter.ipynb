{
 "cells": [
  {
   "cell_type": "code",
   "id": "initial_id",
   "metadata": {
    "collapsed": true,
    "ExecuteTime": {
     "end_time": "2024-04-16T11:43:36.064561Z",
     "start_time": "2024-04-16T11:43:34.249975Z"
    }
   },
   "source": "!pip install -q langchain transformers tqdm",
   "outputs": [],
   "execution_count": 5
  },
  {
   "metadata": {
    "ExecuteTime": {
     "end_time": "2024-04-16T11:42:24.923759Z",
     "start_time": "2024-04-16T11:42:24.901126Z"
    }
   },
   "cell_type": "code",
   "source": [
    "%reload_ext autoreload\n",
    "%autoreload 2\n",
    "%reload_ext dotenv\n",
    "%dotenv"
   ],
   "id": "91550f92df65c139",
   "outputs": [],
   "execution_count": 3
  },
  {
   "metadata": {
    "ExecuteTime": {
     "end_time": "2024-04-16T11:44:04.600228Z",
     "start_time": "2024-04-16T11:43:57.107780Z"
    }
   },
   "cell_type": "code",
   "source": [
    "import datasets\n",
    "from tqdm.auto import tqdm\n",
    "from langchain.docstore.document import Document as LangchainDocument\n",
    "\n",
    "\n",
    "\n",
    "RAW_KNOWLEDGE_BASE = [\n",
    "    LangchainDocument(page_content=doc[\"text\"], metadata={\"source\": doc[\"source\"]}) for doc in tqdm(datasets.load_dataset(\"m-ric/huggingface_doc\", split=\"train\"))\n",
    "]\n"
   ],
   "id": "a1e119942db1a1eb",
   "outputs": [
    {
     "data": {
      "text/plain": [
       "  0%|          | 0/2647 [00:00<?, ?it/s]"
      ],
      "application/vnd.jupyter.widget-view+json": {
       "version_major": 2,
       "version_minor": 0,
       "model_id": "a2a85ec0dc424ed7ac733d1b7bb45fd4"
      }
     },
     "metadata": {},
     "output_type": "display_data"
    }
   ],
   "execution_count": 7
  },
  {
   "metadata": {
    "ExecuteTime": {
     "end_time": "2024-04-16T13:16:23.806800Z",
     "start_time": "2024-04-16T13:16:23.439518Z"
    }
   },
   "cell_type": "code",
   "source": [
    "from langchain.text_splitter import RecursiveCharacterTextSplitter\n",
    "import json\n",
    "\n",
    "dataset_collection = []\n",
    "limit = 10\n",
    "for chunk_size in [200, 400, 600]:\n",
    "    for chunk_overlap in [0, int(chunk_size / 10), int(chunk_size / 20)]:\n",
    "        settings = f\"chunk_size:{chunk_size}-chunk_overlap:{chunk_overlap}\"\n",
    "        text_splitter = RecursiveCharacterTextSplitter.from_tiktoken_encoder(\n",
    "                model_name=\"gpt-4\",\n",
    "                chunk_size=chunk_size,\n",
    "                chunk_overlap=chunk_overlap,\n",
    "                add_start_index=True,\n",
    "                strip_whitespace=True,\n",
    "                separators=[\"\\n\\n\", \"\\n\", \".\", \" \", \"\"],\n",
    "                disallowed_special=[],\n",
    "                allowed_special=\"all\"\n",
    "            )\n",
    "        print(f\"Generating with settings {settings}\")\n",
    "        dataset = {\n",
    "            \"chunk_size\": chunk_size, \n",
    "            \"chunk_overlap\": chunk_overlap,\n",
    "            \"limit\": limit,\n",
    "            \"texts\": [doc.page_content for doc in tqdm(\n",
    "            text_splitter.split_documents(RAW_KNOWLEDGE_BASE[:limit]))]\n",
    "        }\n",
    "        dataset_collection.append(dataset)\n",
    "        \n",
    "json.dump(dataset_collection, open(\"./output/huggingface_doc_splits.json\", \"w\"))\n",
    "\n"
   ],
   "id": "39e93714aeaa8e94",
   "outputs": [
    {
     "name": "stdout",
     "output_type": "stream",
     "text": [
      "Generating with settings chunk_size:200-chunk_overlap:0\n"
     ]
    },
    {
     "data": {
      "text/plain": [
       "  0%|          | 0/91 [00:00<?, ?it/s]"
      ],
      "application/vnd.jupyter.widget-view+json": {
       "version_major": 2,
       "version_minor": 0,
       "model_id": "11463707196144c1b7f6938ae3a936ad"
      }
     },
     "metadata": {},
     "output_type": "display_data"
    },
    {
     "name": "stdout",
     "output_type": "stream",
     "text": [
      "Generating with settings chunk_size:200-chunk_overlap:20\n"
     ]
    },
    {
     "data": {
      "text/plain": [
       "  0%|          | 0/93 [00:00<?, ?it/s]"
      ],
      "application/vnd.jupyter.widget-view+json": {
       "version_major": 2,
       "version_minor": 0,
       "model_id": "0975a4b54c0c4f2c99925fb9d334cb1f"
      }
     },
     "metadata": {},
     "output_type": "display_data"
    },
    {
     "name": "stdout",
     "output_type": "stream",
     "text": [
      "Generating with settings chunk_size:200-chunk_overlap:10\n"
     ]
    },
    {
     "data": {
      "text/plain": [
       "  0%|          | 0/91 [00:00<?, ?it/s]"
      ],
      "application/vnd.jupyter.widget-view+json": {
       "version_major": 2,
       "version_minor": 0,
       "model_id": "2f407ca4c8f04edfaf63c68e4336050c"
      }
     },
     "metadata": {},
     "output_type": "display_data"
    },
    {
     "name": "stdout",
     "output_type": "stream",
     "text": [
      "Generating with settings chunk_size:400-chunk_overlap:0\n"
     ]
    },
    {
     "data": {
      "text/plain": [
       "  0%|          | 0/45 [00:00<?, ?it/s]"
      ],
      "application/vnd.jupyter.widget-view+json": {
       "version_major": 2,
       "version_minor": 0,
       "model_id": "5604a4f93b1a463e8e7b670007b8ebda"
      }
     },
     "metadata": {},
     "output_type": "display_data"
    },
    {
     "name": "stdout",
     "output_type": "stream",
     "text": [
      "Generating with settings chunk_size:400-chunk_overlap:40\n"
     ]
    },
    {
     "data": {
      "text/plain": [
       "  0%|          | 0/46 [00:00<?, ?it/s]"
      ],
      "application/vnd.jupyter.widget-view+json": {
       "version_major": 2,
       "version_minor": 0,
       "model_id": "171903a5591948a8bc9496bfce547ef9"
      }
     },
     "metadata": {},
     "output_type": "display_data"
    },
    {
     "name": "stdout",
     "output_type": "stream",
     "text": [
      "Generating with settings chunk_size:400-chunk_overlap:20\n"
     ]
    },
    {
     "data": {
      "text/plain": [
       "  0%|          | 0/45 [00:00<?, ?it/s]"
      ],
      "application/vnd.jupyter.widget-view+json": {
       "version_major": 2,
       "version_minor": 0,
       "model_id": "56bda23ec087493fa53bb1be524c6f36"
      }
     },
     "metadata": {},
     "output_type": "display_data"
    },
    {
     "name": "stdout",
     "output_type": "stream",
     "text": [
      "Generating with settings chunk_size:600-chunk_overlap:0\n"
     ]
    },
    {
     "data": {
      "text/plain": [
       "  0%|          | 0/29 [00:00<?, ?it/s]"
      ],
      "application/vnd.jupyter.widget-view+json": {
       "version_major": 2,
       "version_minor": 0,
       "model_id": "6d003efd75e04e88b7d79c146894367b"
      }
     },
     "metadata": {},
     "output_type": "display_data"
    },
    {
     "name": "stdout",
     "output_type": "stream",
     "text": [
      "Generating with settings chunk_size:600-chunk_overlap:60\n"
     ]
    },
    {
     "data": {
      "text/plain": [
       "  0%|          | 0/29 [00:00<?, ?it/s]"
      ],
      "application/vnd.jupyter.widget-view+json": {
       "version_major": 2,
       "version_minor": 0,
       "model_id": "b5267b8663064b32afe051de0ea10935"
      }
     },
     "metadata": {},
     "output_type": "display_data"
    },
    {
     "name": "stdout",
     "output_type": "stream",
     "text": [
      "Generating with settings chunk_size:600-chunk_overlap:30\n"
     ]
    },
    {
     "data": {
      "text/plain": [
       "  0%|          | 0/29 [00:00<?, ?it/s]"
      ],
      "application/vnd.jupyter.widget-view+json": {
       "version_major": 2,
       "version_minor": 0,
       "model_id": "9a8c843769054793b60f2162082845d2"
      }
     },
     "metadata": {},
     "output_type": "display_data"
    }
   ],
   "execution_count": 18
  },
  {
   "metadata": {},
   "cell_type": "code",
   "outputs": [],
   "execution_count": null,
   "source": "",
   "id": "f662902b9f08fe42"
  }
 ],
 "metadata": {
  "kernelspec": {
   "display_name": "Python 3",
   "language": "python",
   "name": "python3"
  },
  "language_info": {
   "codemirror_mode": {
    "name": "ipython",
    "version": 2
   },
   "file_extension": ".py",
   "mimetype": "text/x-python",
   "name": "python",
   "nbconvert_exporter": "python",
   "pygments_lexer": "ipython2",
   "version": "2.7.6"
  }
 },
 "nbformat": 4,
 "nbformat_minor": 5
}
