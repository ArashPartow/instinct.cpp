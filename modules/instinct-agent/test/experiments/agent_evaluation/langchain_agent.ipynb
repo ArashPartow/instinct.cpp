{
 "cells": [
  {
   "cell_type": "code",
   "execution_count": 24,
   "id": "initial_id",
   "metadata": {
    "collapsed": true,
    "ExecuteTime": {
     "end_time": "2024-04-04T06:18:50.453005Z",
     "start_time": "2024-04-04T06:18:48.593575Z"
    }
   },
   "outputs": [
    {
     "name": "stdout",
     "output_type": "stream",
     "text": [
      "Requirement already satisfied: langchain in /opt/homebrew/Caskroom/miniconda/base/envs/insintct-cpp/lib/python3.11/site-packages (0.1.10)\r\n",
      "Requirement already satisfied: langchainhub in /opt/homebrew/Caskroom/miniconda/base/envs/insintct-cpp/lib/python3.11/site-packages (0.1.15)\r\n",
      "Requirement already satisfied: langchain_openai in /opt/homebrew/Caskroom/miniconda/base/envs/insintct-cpp/lib/python3.11/site-packages (0.1.1)\r\n",
      "Requirement already satisfied: PyYAML>=5.3 in /opt/homebrew/Caskroom/miniconda/base/envs/insintct-cpp/lib/python3.11/site-packages (from langchain) (6.0.1)\r\n",
      "Requirement already satisfied: SQLAlchemy<3,>=1.4 in /opt/homebrew/Caskroom/miniconda/base/envs/insintct-cpp/lib/python3.11/site-packages (from langchain) (2.0.28)\r\n",
      "Requirement already satisfied: aiohttp<4.0.0,>=3.8.3 in /opt/homebrew/Caskroom/miniconda/base/envs/insintct-cpp/lib/python3.11/site-packages (from langchain) (3.9.3)\r\n",
      "Requirement already satisfied: dataclasses-json<0.7,>=0.5.7 in /opt/homebrew/Caskroom/miniconda/base/envs/insintct-cpp/lib/python3.11/site-packages (from langchain) (0.6.4)\r\n",
      "Requirement already satisfied: jsonpatch<2.0,>=1.33 in /opt/homebrew/Caskroom/miniconda/base/envs/insintct-cpp/lib/python3.11/site-packages (from langchain) (1.33)\r\n",
      "Requirement already satisfied: langchain-community<0.1,>=0.0.25 in /opt/homebrew/Caskroom/miniconda/base/envs/insintct-cpp/lib/python3.11/site-packages (from langchain) (0.0.25)\r\n",
      "Requirement already satisfied: langchain-core<0.2,>=0.1.28 in /opt/homebrew/Caskroom/miniconda/base/envs/insintct-cpp/lib/python3.11/site-packages (from langchain) (0.1.40)\r\n",
      "Requirement already satisfied: langchain-text-splitters<0.1,>=0.0.1 in /opt/homebrew/Caskroom/miniconda/base/envs/insintct-cpp/lib/python3.11/site-packages (from langchain) (0.0.1)\r\n",
      "Requirement already satisfied: langsmith<0.2.0,>=0.1.0 in /opt/homebrew/Caskroom/miniconda/base/envs/insintct-cpp/lib/python3.11/site-packages (from langchain) (0.1.18)\r\n",
      "Requirement already satisfied: numpy<2,>=1 in /opt/homebrew/Caskroom/miniconda/base/envs/insintct-cpp/lib/python3.11/site-packages (from langchain) (1.26.4)\r\n",
      "Requirement already satisfied: pydantic<3,>=1 in /opt/homebrew/Caskroom/miniconda/base/envs/insintct-cpp/lib/python3.11/site-packages (from langchain) (2.6.3)\r\n",
      "Requirement already satisfied: requests<3,>=2 in /opt/homebrew/Caskroom/miniconda/base/envs/insintct-cpp/lib/python3.11/site-packages (from langchain) (2.31.0)\r\n",
      "Requirement already satisfied: tenacity<9.0.0,>=8.1.0 in /opt/homebrew/Caskroom/miniconda/base/envs/insintct-cpp/lib/python3.11/site-packages (from langchain) (8.2.3)\r\n",
      "Requirement already satisfied: types-requests<3.0.0.0,>=2.31.0.2 in /opt/homebrew/Caskroom/miniconda/base/envs/insintct-cpp/lib/python3.11/site-packages (from langchainhub) (2.31.0.20240403)\r\n",
      "Requirement already satisfied: openai<2.0.0,>=1.10.0 in /opt/homebrew/Caskroom/miniconda/base/envs/insintct-cpp/lib/python3.11/site-packages (from langchain_openai) (1.14.1)\r\n",
      "Requirement already satisfied: tiktoken<1,>=0.5.2 in /opt/homebrew/Caskroom/miniconda/base/envs/insintct-cpp/lib/python3.11/site-packages (from langchain_openai) (0.6.0)\r\n",
      "Requirement already satisfied: aiosignal>=1.1.2 in /opt/homebrew/Caskroom/miniconda/base/envs/insintct-cpp/lib/python3.11/site-packages (from aiohttp<4.0.0,>=3.8.3->langchain) (1.3.1)\r\n",
      "Requirement already satisfied: attrs>=17.3.0 in /opt/homebrew/Caskroom/miniconda/base/envs/insintct-cpp/lib/python3.11/site-packages (from aiohttp<4.0.0,>=3.8.3->langchain) (23.1.0)\r\n",
      "Requirement already satisfied: frozenlist>=1.1.1 in /opt/homebrew/Caskroom/miniconda/base/envs/insintct-cpp/lib/python3.11/site-packages (from aiohttp<4.0.0,>=3.8.3->langchain) (1.4.1)\r\n",
      "Requirement already satisfied: multidict<7.0,>=4.5 in /opt/homebrew/Caskroom/miniconda/base/envs/insintct-cpp/lib/python3.11/site-packages (from aiohttp<4.0.0,>=3.8.3->langchain) (6.0.5)\r\n",
      "Requirement already satisfied: yarl<2.0,>=1.0 in /opt/homebrew/Caskroom/miniconda/base/envs/insintct-cpp/lib/python3.11/site-packages (from aiohttp<4.0.0,>=3.8.3->langchain) (1.9.4)\r\n",
      "Requirement already satisfied: marshmallow<4.0.0,>=3.18.0 in /opt/homebrew/Caskroom/miniconda/base/envs/insintct-cpp/lib/python3.11/site-packages (from dataclasses-json<0.7,>=0.5.7->langchain) (3.21.1)\r\n",
      "Requirement already satisfied: typing-inspect<1,>=0.4.0 in /opt/homebrew/Caskroom/miniconda/base/envs/insintct-cpp/lib/python3.11/site-packages (from dataclasses-json<0.7,>=0.5.7->langchain) (0.9.0)\r\n",
      "Requirement already satisfied: jsonpointer>=1.9 in /opt/homebrew/Caskroom/miniconda/base/envs/insintct-cpp/lib/python3.11/site-packages (from jsonpatch<2.0,>=1.33->langchain) (2.4)\r\n",
      "Requirement already satisfied: packaging<24.0,>=23.2 in /opt/homebrew/Caskroom/miniconda/base/envs/insintct-cpp/lib/python3.11/site-packages (from langchain-core<0.2,>=0.1.28->langchain) (23.2)\r\n",
      "Requirement already satisfied: orjson<4.0.0,>=3.9.14 in /opt/homebrew/Caskroom/miniconda/base/envs/insintct-cpp/lib/python3.11/site-packages (from langsmith<0.2.0,>=0.1.0->langchain) (3.9.15)\r\n",
      "Requirement already satisfied: anyio<5,>=3.5.0 in /opt/homebrew/Caskroom/miniconda/base/envs/insintct-cpp/lib/python3.11/site-packages (from openai<2.0.0,>=1.10.0->langchain_openai) (4.3.0)\r\n",
      "Requirement already satisfied: distro<2,>=1.7.0 in /opt/homebrew/Caskroom/miniconda/base/envs/insintct-cpp/lib/python3.11/site-packages (from openai<2.0.0,>=1.10.0->langchain_openai) (1.9.0)\r\n",
      "Requirement already satisfied: httpx<1,>=0.23.0 in /opt/homebrew/Caskroom/miniconda/base/envs/insintct-cpp/lib/python3.11/site-packages (from openai<2.0.0,>=1.10.0->langchain_openai) (0.27.0)\r\n",
      "Requirement already satisfied: sniffio in /opt/homebrew/Caskroom/miniconda/base/envs/insintct-cpp/lib/python3.11/site-packages (from openai<2.0.0,>=1.10.0->langchain_openai) (1.3.1)\r\n",
      "Requirement already satisfied: tqdm>4 in /opt/homebrew/Caskroom/miniconda/base/envs/insintct-cpp/lib/python3.11/site-packages (from openai<2.0.0,>=1.10.0->langchain_openai) (4.66.2)\r\n",
      "Requirement already satisfied: typing-extensions<5,>=4.7 in /opt/homebrew/Caskroom/miniconda/base/envs/insintct-cpp/lib/python3.11/site-packages (from openai<2.0.0,>=1.10.0->langchain_openai) (4.9.0)\r\n",
      "Requirement already satisfied: annotated-types>=0.4.0 in /opt/homebrew/Caskroom/miniconda/base/envs/insintct-cpp/lib/python3.11/site-packages (from pydantic<3,>=1->langchain) (0.6.0)\r\n",
      "Requirement already satisfied: pydantic-core==2.16.3 in /opt/homebrew/Caskroom/miniconda/base/envs/insintct-cpp/lib/python3.11/site-packages (from pydantic<3,>=1->langchain) (2.16.3)\r\n",
      "Requirement already satisfied: charset-normalizer<4,>=2 in /opt/homebrew/Caskroom/miniconda/base/envs/insintct-cpp/lib/python3.11/site-packages (from requests<3,>=2->langchain) (2.0.4)\r\n",
      "Requirement already satisfied: idna<4,>=2.5 in /opt/homebrew/Caskroom/miniconda/base/envs/insintct-cpp/lib/python3.11/site-packages (from requests<3,>=2->langchain) (3.4)\r\n",
      "Requirement already satisfied: urllib3<3,>=1.21.1 in /opt/homebrew/Caskroom/miniconda/base/envs/insintct-cpp/lib/python3.11/site-packages (from requests<3,>=2->langchain) (2.1.0)\r\n",
      "Requirement already satisfied: certifi>=2017.4.17 in /opt/homebrew/Caskroom/miniconda/base/envs/insintct-cpp/lib/python3.11/site-packages (from requests<3,>=2->langchain) (2024.2.2)\r\n",
      "Requirement already satisfied: regex>=2022.1.18 in /opt/homebrew/Caskroom/miniconda/base/envs/insintct-cpp/lib/python3.11/site-packages (from tiktoken<1,>=0.5.2->langchain_openai) (2023.12.25)\r\n",
      "Requirement already satisfied: httpcore==1.* in /opt/homebrew/Caskroom/miniconda/base/envs/insintct-cpp/lib/python3.11/site-packages (from httpx<1,>=0.23.0->openai<2.0.0,>=1.10.0->langchain_openai) (1.0.4)\r\n",
      "Requirement already satisfied: h11<0.15,>=0.13 in /opt/homebrew/Caskroom/miniconda/base/envs/insintct-cpp/lib/python3.11/site-packages (from httpcore==1.*->httpx<1,>=0.23.0->openai<2.0.0,>=1.10.0->langchain_openai) (0.14.0)\r\n",
      "Requirement already satisfied: mypy-extensions>=0.3.0 in /opt/homebrew/Caskroom/miniconda/base/envs/insintct-cpp/lib/python3.11/site-packages (from typing-inspect<1,>=0.4.0->dataclasses-json<0.7,>=0.5.7->langchain) (1.0.0)\r\n"
     ]
    }
   ],
   "source": [
    "!pip install langchain langchainhub langchain_openai"
   ]
  },
  {
   "cell_type": "code",
   "outputs": [],
   "source": [
    "%reload_ext autoreload\n",
    "%autoreload 2\n",
    "%reload_ext dotenv\n",
    "%dotenv"
   ],
   "metadata": {
    "collapsed": false,
    "ExecuteTime": {
     "end_time": "2024-04-04T06:18:50.515564Z",
     "start_time": "2024-04-04T06:18:50.454104Z"
    }
   },
   "id": "5470ea33dff5b82b",
   "execution_count": 25
  },
  {
   "cell_type": "code",
   "outputs": [
    {
     "name": "stdout",
     "output_type": "stream",
     "text": [
      "Answer the following questions as best you can. You have access to the following tools:\n",
      "\n",
      "\u001B[33;1m\u001B[1;3m{tools}\u001B[0m\n",
      "\n",
      "Use the following format:\n",
      "\n",
      "Question: the input question you must answer\n",
      "Thought: you should always think about what to do\n",
      "Action: the action to take, should be one of [\u001B[33;1m\u001B[1;3m{tool_names}\u001B[0m]\n",
      "Action Input: the input to the action\n",
      "Observation: the result of the action\n",
      "... (this Thought/Action/Action Input/Observation can repeat N times)\n",
      "Thought: I now know the final answer\n",
      "Final Answer: the final answer to the original input question\n",
      "\n",
      "Begin!\n",
      "\n",
      "Question: \u001B[33;1m\u001B[1;3m{input}\u001B[0m\n",
      "Thought:\u001B[33;1m\u001B[1;3m{agent_scratchpad}\u001B[0m\n"
     ]
    },
    {
     "ename": "KeyboardInterrupt",
     "evalue": "",
     "output_type": "error",
     "traceback": [
      "\u001B[0;31m---------------------------------------------------------------------------\u001B[0m",
      "\u001B[0;31mKeyboardInterrupt\u001B[0m                         Traceback (most recent call last)",
      "Cell \u001B[0;32mIn[40], line 10\u001B[0m\n\u001B[1;32m      6\u001B[0m prompt\u001B[38;5;241m.\u001B[39mpretty_print()\n\u001B[1;32m      9\u001B[0m base_prompt \u001B[38;5;241m=\u001B[39m hub\u001B[38;5;241m.\u001B[39mpull(\u001B[38;5;124m\"\u001B[39m\u001B[38;5;124mlangchain-ai/openai-functions-template\u001B[39m\u001B[38;5;124m\"\u001B[39m)\n\u001B[0;32m---> 10\u001B[0m base_prompt\u001B[38;5;241m.\u001B[39mpretty_print()\n",
      "File \u001B[0;32m_pydevd_bundle/pydevd_cython_darwin_311_64.pyx:1187\u001B[0m, in \u001B[0;36m_pydevd_bundle.pydevd_cython_darwin_311_64.SafeCallWrapper.__call__\u001B[0;34m()\u001B[0m\n",
      "File \u001B[0;32m_pydevd_bundle/pydevd_cython_darwin_311_64.pyx:627\u001B[0m, in \u001B[0;36m_pydevd_bundle.pydevd_cython_darwin_311_64.PyDBFrame.trace_dispatch\u001B[0;34m()\u001B[0m\n",
      "File \u001B[0;32m_pydevd_bundle/pydevd_cython_darwin_311_64.pyx:937\u001B[0m, in \u001B[0;36m_pydevd_bundle.pydevd_cython_darwin_311_64.PyDBFrame.trace_dispatch\u001B[0;34m()\u001B[0m\n",
      "File \u001B[0;32m_pydevd_bundle/pydevd_cython_darwin_311_64.pyx:928\u001B[0m, in \u001B[0;36m_pydevd_bundle.pydevd_cython_darwin_311_64.PyDBFrame.trace_dispatch\u001B[0;34m()\u001B[0m\n",
      "File \u001B[0;32m_pydevd_bundle/pydevd_cython_darwin_311_64.pyx:585\u001B[0m, in \u001B[0;36m_pydevd_bundle.pydevd_cython_darwin_311_64.PyDBFrame.do_wait_suspend\u001B[0;34m()\u001B[0m\n",
      "File \u001B[0;32m~/Applications/PyCharm Professional Edition.app/Contents/plugins/python/helpers/pydev/pydevd.py:1184\u001B[0m, in \u001B[0;36mPyDB.do_wait_suspend\u001B[0;34m(self, thread, frame, event, arg, send_suspend_message, is_unhandled_exception)\u001B[0m\n\u001B[1;32m   1181\u001B[0m         from_this_thread\u001B[38;5;241m.\u001B[39mappend(frame_id)\n\u001B[1;32m   1183\u001B[0m \u001B[38;5;28;01mwith\u001B[39;00m \u001B[38;5;28mself\u001B[39m\u001B[38;5;241m.\u001B[39m_threads_suspended_single_notification\u001B[38;5;241m.\u001B[39mnotify_thread_suspended(thread_id, stop_reason):\n\u001B[0;32m-> 1184\u001B[0m     \u001B[38;5;28mself\u001B[39m\u001B[38;5;241m.\u001B[39m_do_wait_suspend(thread, frame, event, arg, suspend_type, from_this_thread)\n",
      "File \u001B[0;32m~/Applications/PyCharm Professional Edition.app/Contents/plugins/python/helpers/pydev/pydevd.py:1199\u001B[0m, in \u001B[0;36mPyDB._do_wait_suspend\u001B[0;34m(self, thread, frame, event, arg, suspend_type, from_this_thread)\u001B[0m\n\u001B[1;32m   1196\u001B[0m             \u001B[38;5;28mself\u001B[39m\u001B[38;5;241m.\u001B[39m_call_mpl_hook()\n\u001B[1;32m   1198\u001B[0m         \u001B[38;5;28mself\u001B[39m\u001B[38;5;241m.\u001B[39mprocess_internal_commands()\n\u001B[0;32m-> 1199\u001B[0m         time\u001B[38;5;241m.\u001B[39msleep(\u001B[38;5;241m0.01\u001B[39m)\n\u001B[1;32m   1201\u001B[0m \u001B[38;5;28mself\u001B[39m\u001B[38;5;241m.\u001B[39mcancel_async_evaluation(get_current_thread_id(thread), \u001B[38;5;28mstr\u001B[39m(\u001B[38;5;28mid\u001B[39m(frame)))\n\u001B[1;32m   1203\u001B[0m \u001B[38;5;66;03m# process any stepping instructions\u001B[39;00m\n",
      "\u001B[0;31mKeyboardInterrupt\u001B[0m: "
     ]
    }
   ],
   "source": [
    "from langchain import hub\n",
    "from langchain_community.llms import OpenAI\n",
    "from langchain.agents import AgentExecutor, create_react_agent\n",
    "\n",
    "prompt = hub.pull(\"hwchase17/react\")\n",
    "prompt.pretty_print()\n",
    "\n",
    "\n",
    "base_prompt = hub.pull(\"langchain-ai/openai-functions-template\")\n",
    "base_prompt.pretty_print()"
   ],
   "metadata": {
    "collapsed": false,
    "ExecuteTime": {
     "end_time": "2024-04-06T10:13:00.196941Z",
     "start_time": "2024-04-06T10:12:04.724365Z"
    }
   },
   "id": "4a4c1d46dbadd5ce",
   "execution_count": 40
  },
  {
   "cell_type": "code",
   "outputs": [],
   "source": [
    "from langchain_community.tools.tavily_search import TavilySearchResults\n",
    "\n",
    "search = TavilySearchResults()\n"
   ],
   "metadata": {
    "collapsed": false,
    "ExecuteTime": {
     "end_time": "2024-04-04T06:18:50.570882Z",
     "start_time": "2024-04-04T06:18:50.516225Z"
    }
   },
   "id": "1537c1b6011daa5b",
   "execution_count": 26
  },
  {
   "cell_type": "code",
   "outputs": [],
   "source": [
    "from langchain_community.document_loaders import WebBaseLoader\n",
    "from langchain_community.vectorstores import FAISS\n",
    "# from langchain_openai import OpenAIEmbeddings\n",
    "from langchain_text_splitters import RecursiveCharacterTextSplitter\n",
    "from langchain_community.embeddings import OllamaEmbeddings\n",
    "\n",
    "loader = WebBaseLoader(\"https://docs.smith.langchain.com/overview\")\n",
    "docs = loader.load()\n",
    "documents = RecursiveCharacterTextSplitter(\n",
    "    chunk_size=1000, chunk_overlap=200\n",
    ").split_documents(docs)\n",
    "vector = FAISS.from_documents(documents, OllamaEmbeddings(model=\"all-minilm:latest\"))\n",
    "retriever = vector.as_retriever()"
   ],
   "metadata": {
    "collapsed": false,
    "ExecuteTime": {
     "end_time": "2024-04-04T06:18:51.492919Z",
     "start_time": "2024-04-04T06:18:50.572429Z"
    }
   },
   "id": "eb5d8374fad3dcb9",
   "execution_count": 27
  },
  {
   "cell_type": "code",
   "outputs": [],
   "source": [
    "from langchain.tools.retriever import create_retriever_tool\n",
    "\n",
    "retriever_tool = create_retriever_tool(\n",
    "    retriever,\n",
    "    \"langsmith_search\",\n",
    "    \"Search for information about LangSmith. For any questions about LangSmith, you must use this tool!\",\n",
    ")"
   ],
   "metadata": {
    "collapsed": false,
    "ExecuteTime": {
     "end_time": "2024-04-04T06:18:51.549252Z",
     "start_time": "2024-04-04T06:18:51.493637Z"
    }
   },
   "id": "69e065e17cbc367d",
   "execution_count": 28
  },
  {
   "cell_type": "code",
   "outputs": [],
   "source": [
    "tools = [search, retriever_tool]"
   ],
   "metadata": {
    "collapsed": false,
    "ExecuteTime": {
     "end_time": "2024-04-04T06:18:51.603084Z",
     "start_time": "2024-04-04T06:18:51.550049Z"
    }
   },
   "id": "7d4196038300ff9f",
   "execution_count": 29
  },
  {
   "cell_type": "code",
   "outputs": [],
   "source": [
    "from langchain_openai import ChatOpenAI\n",
    "from langchain.agents import create_openai_functions_agent\n",
    "from langchain.agents import AgentExecutor\n",
    "\n",
    "\n",
    "llm = ChatOpenAI(model=\"gpt-3.5-turbo\", temperature=0)\n",
    "\n",
    "from langchain import hub\n",
    "\n",
    "# Get the prompt to use - you can modify this!\n",
    "prompt = hub.pull(\"hwchase17/openai-functions-agent\")\n",
    "agent = create_openai_functions_agent(llm, tools, prompt)\n",
    "agent_executor = AgentExecutor(agent=agent, tools=tools, verbose=True)"
   ],
   "metadata": {
    "collapsed": false,
    "ExecuteTime": {
     "end_time": "2024-04-04T06:18:54.397753Z",
     "start_time": "2024-04-04T06:18:51.603719Z"
    }
   },
   "id": "ba6c3b4e8fc6131c",
   "execution_count": 30
  },
  {
   "cell_type": "code",
   "outputs": [
    {
     "ename": "AttributeError",
     "evalue": "'NoneType' object has no attribute 'get'",
     "output_type": "error",
     "traceback": [
      "\u001B[0;31m---------------------------------------------------------------------------\u001B[0m",
      "\u001B[0;31mAttributeError\u001B[0m                            Traceback (most recent call last)",
      "Cell \u001B[0;32mIn[36], line 1\u001B[0m\n\u001B[0;32m----> 1\u001B[0m agent_executor\u001B[38;5;241m.\u001B[39minvoke({\u001B[38;5;124m\"\u001B[39m\u001B[38;5;124minput\u001B[39m\u001B[38;5;124m\"\u001B[39m: \u001B[38;5;124m\"\u001B[39m\u001B[38;5;124mhow can langsmith help with testing?\u001B[39m\u001B[38;5;124m\"\u001B[39m})\n",
      "File \u001B[0;32m/opt/homebrew/Caskroom/miniconda/base/envs/insintct-cpp/lib/python3.11/site-packages/langchain/chains/base.py:134\u001B[0m, in \u001B[0;36mChain.invoke\u001B[0;34m(self, input, config, **kwargs)\u001B[0m\n\u001B[1;32m    131\u001B[0m return_only_outputs \u001B[38;5;241m=\u001B[39m kwargs\u001B[38;5;241m.\u001B[39mget(\u001B[38;5;124m\"\u001B[39m\u001B[38;5;124mreturn_only_outputs\u001B[39m\u001B[38;5;124m\"\u001B[39m, \u001B[38;5;28;01mFalse\u001B[39;00m)\n\u001B[1;32m    133\u001B[0m inputs \u001B[38;5;241m=\u001B[39m \u001B[38;5;28mself\u001B[39m\u001B[38;5;241m.\u001B[39mprep_inputs(\u001B[38;5;28minput\u001B[39m)\n\u001B[0;32m--> 134\u001B[0m callback_manager \u001B[38;5;241m=\u001B[39m CallbackManager\u001B[38;5;241m.\u001B[39mconfigure(\n\u001B[1;32m    135\u001B[0m     callbacks,\n\u001B[1;32m    136\u001B[0m     \u001B[38;5;28mself\u001B[39m\u001B[38;5;241m.\u001B[39mcallbacks,\n\u001B[1;32m    137\u001B[0m     \u001B[38;5;28mself\u001B[39m\u001B[38;5;241m.\u001B[39mverbose,\n\u001B[1;32m    138\u001B[0m     tags,\n\u001B[1;32m    139\u001B[0m     \u001B[38;5;28mself\u001B[39m\u001B[38;5;241m.\u001B[39mtags,\n\u001B[1;32m    140\u001B[0m     metadata,\n\u001B[1;32m    141\u001B[0m     \u001B[38;5;28mself\u001B[39m\u001B[38;5;241m.\u001B[39mmetadata,\n\u001B[1;32m    142\u001B[0m )\n\u001B[1;32m    143\u001B[0m new_arg_supported \u001B[38;5;241m=\u001B[39m inspect\u001B[38;5;241m.\u001B[39msignature(\u001B[38;5;28mself\u001B[39m\u001B[38;5;241m.\u001B[39m_call)\u001B[38;5;241m.\u001B[39mparameters\u001B[38;5;241m.\u001B[39mget(\u001B[38;5;124m\"\u001B[39m\u001B[38;5;124mrun_manager\u001B[39m\u001B[38;5;124m\"\u001B[39m)\n\u001B[1;32m    145\u001B[0m run_manager \u001B[38;5;241m=\u001B[39m callback_manager\u001B[38;5;241m.\u001B[39mon_chain_start(\n\u001B[1;32m    146\u001B[0m     dumpd(\u001B[38;5;28mself\u001B[39m),\n\u001B[1;32m    147\u001B[0m     inputs,\n\u001B[1;32m    148\u001B[0m     name\u001B[38;5;241m=\u001B[39mrun_name,\n\u001B[1;32m    149\u001B[0m )\n",
      "File \u001B[0;32m/opt/homebrew/Caskroom/miniconda/base/envs/insintct-cpp/lib/python3.11/site-packages/langchain_core/callbacks/manager.py:1441\u001B[0m, in \u001B[0;36mconfigure\u001B[0;34m(cls, inheritable_callbacks, local_callbacks, verbose, inheritable_tags, local_tags, inheritable_metadata, local_metadata)\u001B[0m\n\u001B[1;32m   1418\u001B[0m \u001B[38;5;129m@classmethod\u001B[39m\n\u001B[1;32m   1419\u001B[0m \u001B[38;5;28;01mdef\u001B[39;00m \u001B[38;5;21mconfigure\u001B[39m(\n\u001B[1;32m   1420\u001B[0m     \u001B[38;5;28mcls\u001B[39m,\n\u001B[0;32m   (...)\u001B[0m\n\u001B[1;32m   1427\u001B[0m     local_metadata: Optional[Dict[\u001B[38;5;28mstr\u001B[39m, Any]] \u001B[38;5;241m=\u001B[39m \u001B[38;5;28;01mNone\u001B[39;00m,\n\u001B[1;32m   1428\u001B[0m ) \u001B[38;5;241m-\u001B[39m\u001B[38;5;241m>\u001B[39m CallbackManager:\n\u001B[1;32m   1429\u001B[0m \u001B[38;5;250m    \u001B[39m\u001B[38;5;124;03m\"\"\"Configure the callback manager.\u001B[39;00m\n\u001B[1;32m   1430\u001B[0m \n\u001B[1;32m   1431\u001B[0m \u001B[38;5;124;03m    Args:\u001B[39;00m\n\u001B[1;32m   1432\u001B[0m \u001B[38;5;124;03m        inheritable_callbacks (Optional[Callbacks], optional): The inheritable\u001B[39;00m\n\u001B[1;32m   1433\u001B[0m \u001B[38;5;124;03m            callbacks. Defaults to None.\u001B[39;00m\n\u001B[1;32m   1434\u001B[0m \u001B[38;5;124;03m        local_callbacks (Optional[Callbacks], optional): The local callbacks.\u001B[39;00m\n\u001B[1;32m   1435\u001B[0m \u001B[38;5;124;03m            Defaults to None.\u001B[39;00m\n\u001B[1;32m   1436\u001B[0m \u001B[38;5;124;03m        verbose (bool, optional): Whether to enable verbose mode. Defaults to False.\u001B[39;00m\n\u001B[1;32m   1437\u001B[0m \u001B[38;5;124;03m        inheritable_tags (Optional[List[str]], optional): The inheritable tags.\u001B[39;00m\n\u001B[1;32m   1438\u001B[0m \u001B[38;5;124;03m            Defaults to None.\u001B[39;00m\n\u001B[1;32m   1439\u001B[0m \u001B[38;5;124;03m        local_tags (Optional[List[str]], optional): The local tags.\u001B[39;00m\n\u001B[1;32m   1440\u001B[0m \u001B[38;5;124;03m            Defaults to None.\u001B[39;00m\n\u001B[0;32m-> 1441\u001B[0m \u001B[38;5;124;03m        inheritable_metadata (Optional[Dict[str, Any]], optional): The inheritable\u001B[39;00m\n\u001B[1;32m   1442\u001B[0m \u001B[38;5;124;03m            metadata. Defaults to None.\u001B[39;00m\n\u001B[1;32m   1443\u001B[0m \u001B[38;5;124;03m        local_metadata (Optional[Dict[str, Any]], optional): The local metadata.\u001B[39;00m\n\u001B[1;32m   1444\u001B[0m \u001B[38;5;124;03m            Defaults to None.\u001B[39;00m\n\u001B[1;32m   1445\u001B[0m \n\u001B[1;32m   1446\u001B[0m \u001B[38;5;124;03m    Returns:\u001B[39;00m\n\u001B[1;32m   1447\u001B[0m \u001B[38;5;124;03m        CallbackManager: The configured callback manager.\u001B[39;00m\n\u001B[1;32m   1448\u001B[0m \u001B[38;5;124;03m    \"\"\"\u001B[39;00m\n\u001B[1;32m   1449\u001B[0m     \u001B[38;5;28;01mreturn\u001B[39;00m _configure(\n\u001B[1;32m   1450\u001B[0m         \u001B[38;5;28mcls\u001B[39m,\n\u001B[1;32m   1451\u001B[0m         inheritable_callbacks,\n\u001B[0;32m   (...)\u001B[0m\n\u001B[1;32m   1457\u001B[0m         local_metadata,\n\u001B[1;32m   1458\u001B[0m     )\n",
      "File \u001B[0;32m/opt/homebrew/Caskroom/miniconda/base/envs/insintct-cpp/lib/python3.11/site-packages/langchain_core/callbacks/manager.py:1938\u001B[0m, in \u001B[0;36m_configure\u001B[0;34m(callback_manager_cls, inheritable_callbacks, local_callbacks, verbose, inheritable_tags, local_tags, inheritable_metadata, local_metadata)\u001B[0m\n\u001B[1;32m   1926\u001B[0m     callback_manager \u001B[38;5;241m=\u001B[39m callback_manager_cls(\n\u001B[1;32m   1927\u001B[0m         handlers\u001B[38;5;241m=\u001B[39minheritable_callbacks_\u001B[38;5;241m.\u001B[39mcopy(),\n\u001B[1;32m   1928\u001B[0m         inheritable_handlers\u001B[38;5;241m=\u001B[39minheritable_callbacks_\u001B[38;5;241m.\u001B[39mcopy(),\n\u001B[1;32m   1929\u001B[0m         parent_run_id\u001B[38;5;241m=\u001B[39mparent_run_id,\n\u001B[1;32m   1930\u001B[0m     )\n\u001B[1;32m   1931\u001B[0m \u001B[38;5;28;01melse\u001B[39;00m:\n\u001B[1;32m   1932\u001B[0m     callback_manager \u001B[38;5;241m=\u001B[39m callback_manager_cls(\n\u001B[1;32m   1933\u001B[0m         handlers\u001B[38;5;241m=\u001B[39minheritable_callbacks\u001B[38;5;241m.\u001B[39mhandlers\u001B[38;5;241m.\u001B[39mcopy(),\n\u001B[1;32m   1934\u001B[0m         inheritable_handlers\u001B[38;5;241m=\u001B[39minheritable_callbacks\u001B[38;5;241m.\u001B[39minheritable_handlers\u001B[38;5;241m.\u001B[39mcopy(),\n\u001B[1;32m   1935\u001B[0m         parent_run_id\u001B[38;5;241m=\u001B[39minheritable_callbacks\u001B[38;5;241m.\u001B[39mparent_run_id,\n\u001B[1;32m   1936\u001B[0m         tags\u001B[38;5;241m=\u001B[39minheritable_callbacks\u001B[38;5;241m.\u001B[39mtags\u001B[38;5;241m.\u001B[39mcopy(),\n\u001B[1;32m   1937\u001B[0m         inheritable_tags\u001B[38;5;241m=\u001B[39minheritable_callbacks\u001B[38;5;241m.\u001B[39minheritable_tags\u001B[38;5;241m.\u001B[39mcopy(),\n\u001B[0;32m-> 1938\u001B[0m         metadata\u001B[38;5;241m=\u001B[39minheritable_callbacks\u001B[38;5;241m.\u001B[39mmetadata\u001B[38;5;241m.\u001B[39mcopy(),\n\u001B[1;32m   1939\u001B[0m         inheritable_metadata\u001B[38;5;241m=\u001B[39minheritable_callbacks\u001B[38;5;241m.\u001B[39minheritable_metadata\u001B[38;5;241m.\u001B[39mcopy(),\n\u001B[1;32m   1940\u001B[0m     )\n\u001B[1;32m   1941\u001B[0m local_handlers_ \u001B[38;5;241m=\u001B[39m (\n\u001B[1;32m   1942\u001B[0m     local_callbacks\n\u001B[1;32m   1943\u001B[0m     \u001B[38;5;28;01mif\u001B[39;00m \u001B[38;5;28misinstance\u001B[39m(local_callbacks, \u001B[38;5;28mlist\u001B[39m)\n\u001B[1;32m   1944\u001B[0m     \u001B[38;5;28;01melse\u001B[39;00m (local_callbacks\u001B[38;5;241m.\u001B[39mhandlers \u001B[38;5;28;01mif\u001B[39;00m local_callbacks \u001B[38;5;28;01melse\u001B[39;00m [])\n\u001B[1;32m   1945\u001B[0m )\n\u001B[1;32m   1946\u001B[0m \u001B[38;5;28;01mfor\u001B[39;00m handler \u001B[38;5;129;01min\u001B[39;00m local_handlers_:\n",
      "\u001B[0;31mAttributeError\u001B[0m: 'NoneType' object has no attribute 'get'"
     ]
    }
   ],
   "source": [
    "agent_executor.invoke({\"input\": \"how can langsmith help with testing?\"})"
   ],
   "metadata": {
    "collapsed": false,
    "ExecuteTime": {
     "end_time": "2024-04-04T06:22:36.113565Z",
     "start_time": "2024-04-04T06:22:01.730950Z"
    }
   },
   "id": "8ad073f98c88f106",
   "execution_count": 36
  },
  {
   "cell_type": "code",
   "outputs": [],
   "source": [],
   "metadata": {
    "collapsed": false,
    "ExecuteTime": {
     "end_time": "2024-04-04T06:18:54.473966Z",
     "start_time": "2024-04-04T06:18:54.473829Z"
    }
   },
   "id": "163fac004e02a40e"
  }
 ],
 "metadata": {
  "kernelspec": {
   "display_name": "Python 3",
   "language": "python",
   "name": "python3"
  },
  "language_info": {
   "codemirror_mode": {
    "name": "ipython",
    "version": 2
   },
   "file_extension": ".py",
   "mimetype": "text/x-python",
   "name": "python",
   "nbconvert_exporter": "python",
   "pygments_lexer": "ipython2",
   "version": "2.7.6"
  }
 },
 "nbformat": 4,
 "nbformat_minor": 5
}
