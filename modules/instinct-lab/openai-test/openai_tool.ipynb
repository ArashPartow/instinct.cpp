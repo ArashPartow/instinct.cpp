{
 "cells": [
  {
   "cell_type": "code",
   "id": "initial_id",
   "metadata": {
    "collapsed": true,
    "ExecuteTime": {
     "end_time": "2024-04-28T09:05:43.867562Z",
     "start_time": "2024-04-28T09:05:39.067535Z"
    }
   },
   "source": [
    "from langchain import hub\n",
    "\n",
    "print(\"hwchase17/openai-tools-agent\")\n",
    "prompt1 = hub.pull(\"hwchase17/openai-tools-agent\")\n",
    "prompt1.pretty_print()\n",
    "\n",
    "print(\"\\n\\n\")\n",
    "\n",
    "print(\"langchain-ai/openai-functions-template\")\n",
    "prompt2 = hub.pull(\"langchain-ai/openai-functions-template\")\n",
    "prompt2.pretty_print()\n"
   ],
   "outputs": [
    {
     "name": "stdout",
     "output_type": "stream",
     "text": [
      "hwchase17/openai-tools-agent\n",
      "================================\u001B[1m System Message \u001B[0m================================\n",
      "\n",
      "You are a helpful assistant\n",
      "\n",
      "=============================\u001B[1m Messages Placeholder \u001B[0m=============================\n",
      "\n",
      "\u001B[33;1m\u001B[1;3m{chat_history}\u001B[0m\n",
      "\n",
      "================================\u001B[1m Human Message \u001B[0m=================================\n",
      "\n",
      "\u001B[33;1m\u001B[1;3m{input}\u001B[0m\n",
      "\n",
      "=============================\u001B[1m Messages Placeholder \u001B[0m=============================\n",
      "\n",
      "\u001B[33;1m\u001B[1;3m{agent_scratchpad}\u001B[0m\n",
      "\n",
      "\n",
      "\n",
      "langchain-ai/openai-functions-template\n",
      "================================\u001B[1m System Message \u001B[0m================================\n",
      "\n",
      "\u001B[33;1m\u001B[1;3m{instructions}\u001B[0m\n",
      "\n",
      "=============================\u001B[1m Messages Placeholder \u001B[0m=============================\n",
      "\n",
      "\u001B[33;1m\u001B[1;3m{chat_history}\u001B[0m\n",
      "\n",
      "================================\u001B[1m Human Message \u001B[0m=================================\n",
      "\n",
      "\u001B[33;1m\u001B[1;3m{input}\u001B[0m\n",
      "\n",
      "=============================\u001B[1m Messages Placeholder \u001B[0m=============================\n",
      "\n",
      "\u001B[33;1m\u001B[1;3m{agent_scratchpad}\u001B[0m\n"
     ]
    }
   ],
   "execution_count": 5
  },
  {
   "metadata": {},
   "cell_type": "code",
   "outputs": [],
   "execution_count": null,
   "source": "",
   "id": "3b71bdf6a0e988f7"
  }
 ],
 "metadata": {
  "kernelspec": {
   "display_name": "Python 3",
   "language": "python",
   "name": "python3"
  },
  "language_info": {
   "codemirror_mode": {
    "name": "ipython",
    "version": 2
   },
   "file_extension": ".py",
   "mimetype": "text/x-python",
   "name": "python",
   "nbconvert_exporter": "python",
   "pygments_lexer": "ipython2",
   "version": "2.7.6"
  }
 },
 "nbformat": 4,
 "nbformat_minor": 5
}
